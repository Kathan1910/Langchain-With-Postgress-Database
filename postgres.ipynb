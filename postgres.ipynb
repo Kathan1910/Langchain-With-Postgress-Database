{
 "cells": [
  {
   "cell_type": "markdown",
   "metadata": {},
   "source": [
    "- Import Libraries"
   ]
  },
  {
   "cell_type": "code",
   "execution_count": 1,
   "metadata": {},
   "outputs": [],
   "source": [
    "import os\n",
    "from langchain.agents import *\n",
    "from langchain.llms import OpenAI\n",
    "from langchain.sql_database import SQLDatabase\n",
    "from langchain.agents import create_sql_agent\n",
    "from langchain.agents.agent_types import AgentType\n",
    "from langchain.sql_database import SQLDatabase\n",
    "from langchain_community.agent_toolkits import SQLDatabaseToolkit"
   ]
  },
  {
   "cell_type": "markdown",
   "metadata": {},
   "source": [
    "- Database Connection"
   ]
  },
  {
   "cell_type": "code",
   "execution_count": 2,
   "metadata": {},
   "outputs": [],
   "source": [
    "# Database connection\n",
    "db_user = \"postgres\"\n",
    "db_password = \"upforce123\"\n",
    "db_host = \"localhost\"\n",
    "db_name = \"schoolDB\"\n",
    "db_port = 5432\n",
    "SQLALCHEMY_DATABASE_URL = f\"postgresql://{db_user}:{db_password}@{db_host}:{db_port}/{db_name}\"\n",
    "db = SQLDatabase.from_uri(SQLALCHEMY_DATABASE_URL)"
   ]
  },
  {
   "cell_type": "code",
   "execution_count": 4,
   "metadata": {},
   "outputs": [],
   "source": [
    "# Set your OpenAI API key\n",
    "os.environ[\"OPENAI_API_KEY\"] = \"YOUR_OPENAI_API_KEY\"\n"
   ]
  },
  {
   "cell_type": "code",
   "execution_count": 5,
   "metadata": {},
   "outputs": [],
   "source": [
    "from langchain.chat_models import ChatOpenAI\n",
    "llm = ChatOpenAI(model_name=\"gpt-3.5-turbo-1106\")\n",
    "\n",
    "toolkit = SQLDatabaseToolkit(db=db,llm=llm)\n",
    "agent_executor = create_sql_agent(\n",
    "    llm=llm,\n",
    "    toolkit=toolkit,\n",
    "    verbose=True,\n",
    "    agent_type=AgentType.OPENAI_FUNCTIONS,\n",
    ")"
   ]
  },
  {
   "cell_type": "code",
   "execution_count": 6,
   "metadata": {},
   "outputs": [
    {
     "name": "stderr",
     "output_type": "stream",
     "text": [
      "c:\\Users\\admin\\UpForce\\Company Projects\\UniversalChatBot\\venv\\lib\\site-packages\\langchain_core\\_api\\deprecation.py:117: LangChainDeprecationWarning: The function `run` was deprecated in LangChain 0.1.0 and will be removed in 0.2.0. Use invoke instead.\n",
      "  warn_deprecated(\n"
     ]
    },
    {
     "name": "stdout",
     "output_type": "stream",
     "text": [
      "\n",
      "\n",
      "\u001b[1m> Entering new AgentExecutor chain...\u001b[0m\n",
      "\u001b[32;1m\u001b[1;3m\n",
      "Invoking: `sql_db_list_tables` with ``\n",
      "\n",
      "\n",
      "\u001b[0m\u001b[38;5;200m\u001b[1;3mclassrooms, courses, enrollments, schedule, students, teachers\u001b[0m\u001b[32;1m\u001b[1;3m\n",
      "Invoking: `sql_db_schema` with `classrooms, courses, enrollments, schedule, students, teachers`\n",
      "responded: We have 6 tables in the database: classrooms, courses, enrollments, schedule, students, and teachers. I will now query the schema of these tables to see their structure.\n",
      "\n",
      "\u001b[0m\u001b[33;1m\u001b[1;3m\n",
      "CREATE TABLE classrooms (\n",
      "\t`ClassroomID` INTEGER NOT NULL, \n",
      "\t`ClassroomName` VARCHAR(255), \n",
      "\t`Location` VARCHAR(255), \n",
      "\t`Capacity` INTEGER, \n",
      "\tPRIMARY KEY (`ClassroomID`)\n",
      ")COLLATE utf8mb4_0900_ai_ci DEFAULT CHARSET=utf8mb4 ENGINE=InnoDB\n",
      "\n",
      "/*\n",
      "3 rows from classrooms table:\n",
      "ClassroomID\tClassroomName\tLocation\tCapacity\n",
      "1\tRoom 1\tChadland\t31\n",
      "2\tRoom 2\tSouth Roy\t24\n",
      "3\tRoom 3\tPort Petershire\t23\n",
      "*/\n",
      "\n",
      "\n",
      "CREATE TABLE courses (\n",
      "\t`CourseID` INTEGER NOT NULL, \n",
      "\t`CourseName` VARCHAR(255), \n",
      "\t`Description` TEXT, \n",
      "\t`TeacherID` INTEGER, \n",
      "\tPRIMARY KEY (`CourseID`), \n",
      "\tCONSTRAINT courses_ibfk_1 FOREIGN KEY(`TeacherID`) REFERENCES teachers (`TeacherID`)\n",
      ")COLLATE utf8mb4_0900_ai_ci DEFAULT CHARSET=utf8mb4 ENGINE=InnoDB\n",
      "\n",
      "/*\n",
      "3 rows from courses table:\n",
      "CourseID\tCourseName\tDescription\tTeacherID\n",
      "1\tGovernment\tEarly theory fly traditional two main computer black.\t94\n",
      "2\tDiscussion\tCitizen near interview believe drug kitchen.\t32\n",
      "3\tBreak\tOther article similar then.\t47\n",
      "*/\n",
      "\n",
      "\n",
      "CREATE TABLE enrollments (\n",
      "\t`EnrollmentID` INTEGER NOT NULL, \n",
      "\t`StudentID` INTEGER, \n",
      "\t`CourseID` INTEGER, \n",
      "\t`EnrollmentDate` DATE, \n",
      "\t`Grade` CHAR(1), \n",
      "\tPRIMARY KEY (`EnrollmentID`), \n",
      "\tCONSTRAINT enrollments_ibfk_1 FOREIGN KEY(`StudentID`) REFERENCES students (`StudentID`), \n",
      "\tCONSTRAINT enrollments_ibfk_2 FOREIGN KEY(`CourseID`) REFERENCES courses (`CourseID`)\n",
      ")COLLATE utf8mb4_0900_ai_ci DEFAULT CHARSET=utf8mb4 ENGINE=InnoDB\n",
      "\n",
      "/*\n",
      "3 rows from enrollments table:\n",
      "EnrollmentID\tStudentID\tCourseID\tEnrollmentDate\tGrade\n",
      "1\t51\t54\t2022-06-05\tC\n",
      "2\t704\t97\t2023-10-12\tB\n",
      "3\t790\t19\t2022-04-14\tA\n",
      "*/\n",
      "\n",
      "\n",
      "CREATE TABLE schedule (\n",
      "\t`ScheduleID` INTEGER NOT NULL, \n",
      "\t`CourseID` INTEGER, \n",
      "\t`ClassroomID` INTEGER, \n",
      "\t`StartTime` TIME, \n",
      "\t`EndTime` TIME, \n",
      "\t`DaysOfWeek` VARCHAR(255), \n",
      "\tPRIMARY KEY (`ScheduleID`), \n",
      "\tCONSTRAINT schedule_ibfk_1 FOREIGN KEY(`CourseID`) REFERENCES courses (`CourseID`), \n",
      "\tCONSTRAINT schedule_ibfk_2 FOREIGN KEY(`ClassroomID`) REFERENCES classrooms (`ClassroomID`)\n",
      ")COLLATE utf8mb4_0900_ai_ci DEFAULT CHARSET=utf8mb4 ENGINE=InnoDB\n",
      "\n",
      "/*\n",
      "3 rows from schedule table:\n",
      "ScheduleID\tCourseID\tClassroomID\tStartTime\tEndTime\tDaysOfWeek\n",
      "1\t150\t50\t17:00:00\t20:00:00\tFriday\n",
      "2\t4\t25\t17:00:00\t20:00:00\tWednesday\n",
      "3\t95\t50\t14:00:00\t19:00:00\tWednesday\n",
      "*/\n",
      "\n",
      "\n",
      "CREATE TABLE students (\n",
      "\t`StudentID` INTEGER NOT NULL, \n",
      "\t`FirstName` VARCHAR(255), \n",
      "\t`LastName` VARCHAR(255), \n",
      "\t`DateOfBirth` DATE, \n",
      "\t`Grade` INTEGER, \n",
      "\t`Email` VARCHAR(255), \n",
      "\t`Address` TEXT, \n",
      "\tPRIMARY KEY (`StudentID`)\n",
      ")COLLATE utf8mb4_0900_ai_ci DEFAULT CHARSET=utf8mb4 ENGINE=InnoDB\n",
      "\n",
      "/*\n",
      "3 rows from students table:\n",
      "StudentID\tFirstName\tLastName\tDateOfBirth\tGrade\tEmail\tAddress\n",
      "1\tDaniel\tSanchez\t2017-12-07\t11\tdariusrosario@evans.com\t7234 Nicole Harbor Suite 558, South Heathermouth, AZ 46122\n",
      "2\tAnthony\tHughes\t2013-04-15\t3\tjacobgoodwin@gmail.com\t3230 Christopher Ferry Apt. 766, North Robertmouth, OR 65443\n",
      "3\tJody\tDavidson\t2014-09-18\t10\tanthony98@hotmail.com\t791 Williams Ferry, North Andrea, DE 85879\n",
      "*/\n",
      "\n",
      "\n",
      "CREATE TABLE teachers (\n",
      "\t`TeacherID` INTEGER NOT NULL, \n",
      "\t`FirstName` VARCHAR(255), \n",
      "\t`LastName` VARCHAR(255), \n",
      "\t`Email` VARCHAR(255), \n",
      "\t`Specialty` VARCHAR(255), \n",
      "\t`PhoneNumber` VARCHAR(50), \n",
      "\tPRIMARY KEY (`TeacherID`)\n",
      ")COLLATE utf8mb4_0900_ai_ci DEFAULT CHARSET=utf8mb4 ENGINE=InnoDB\n",
      "\n",
      "/*\n",
      "3 rows from teachers table:\n",
      "TeacherID\tFirstName\tLastName\tEmail\tSpecialty\tPhoneNumber\n",
      "1\tJennifer\tGeorge\tthomas15@johnston-kirk.com\tPublic relations officer\t001-953-845-6669\n",
      "2\tRebecca\tHill\tvnguyen@livingston-taylor.com\tVeterinary surgeon\t627-388-5942x53982\n",
      "3\tMicheal\tCruz\ttmitchell@simmons.info\tClinical psychologist\t561-649-9341x70558\n",
      "*/\u001b[0m\u001b[32;1m\u001b[1;3mWe have 6 tables in the database: classrooms, courses, enrollments, schedule, students, and teachers.\n",
      "\n",
      "- The \"classrooms\" table contains information about classroom IDs, names, locations, and capacities.\n",
      "- The \"courses\" table contains information about course IDs, names, descriptions, and teacher IDs.\n",
      "- The \"enrollments\" table contains information about enrollment IDs, student IDs, course IDs, enrollment dates, and grades.\n",
      "- The \"schedule\" table contains information about schedule IDs, course IDs, classroom IDs, start times, end times, and days of the week.\n",
      "- The \"students\" table contains information about student IDs, first names, last names, date of birth, grade, email, and address.\n",
      "- The \"teachers\" table contains information about teacher IDs, first names, last names, email, specialty, and phone numbers.\n",
      "\n",
      "Is there anything specific you would like to know about these tables?\u001b[0m\n",
      "\n",
      "\u001b[1m> Finished chain.\u001b[0m\n"
     ]
    },
    {
     "data": {
      "text/plain": [
       "'We have 6 tables in the database: classrooms, courses, enrollments, schedule, students, and teachers.\\n\\n- The \"classrooms\" table contains information about classroom IDs, names, locations, and capacities.\\n- The \"courses\" table contains information about course IDs, names, descriptions, and teacher IDs.\\n- The \"enrollments\" table contains information about enrollment IDs, student IDs, course IDs, enrollment dates, and grades.\\n- The \"schedule\" table contains information about schedule IDs, course IDs, classroom IDs, start times, end times, and days of the week.\\n- The \"students\" table contains information about student IDs, first names, last names, date of birth, grade, email, and address.\\n- The \"teachers\" table contains information about teacher IDs, first names, last names, email, specialty, and phone numbers.\\n\\nIs there anything specific you would like to know about these tables?'"
      ]
     },
     "execution_count": 6,
     "metadata": {},
     "output_type": "execute_result"
    }
   ],
   "source": [
    "agent_executor.run(\"how many tables do we have ?\")"
   ]
  },
  {
   "cell_type": "code",
   "execution_count": 7,
   "metadata": {},
   "outputs": [
    {
     "name": "stdout",
     "output_type": "stream",
     "text": [
      "\n",
      "\n",
      "\u001b[1m> Entering new AgentExecutor chain...\u001b[0m\n",
      "\u001b[32;1m\u001b[1;3m\n",
      "Invoking: `sql_db_list_tables` with ``\n",
      "\n",
      "\n",
      "\u001b[0m\u001b[38;5;200m\u001b[1;3mclassrooms, courses, enrollments, schedule, students, teachers\u001b[0m\u001b[32;1m\u001b[1;3m\n",
      "Invoking: `sql_db_schema` with `students`\n",
      "\n",
      "\n",
      "\u001b[0m\u001b[33;1m\u001b[1;3m\n",
      "CREATE TABLE students (\n",
      "\t`StudentID` INTEGER NOT NULL, \n",
      "\t`FirstName` VARCHAR(255), \n",
      "\t`LastName` VARCHAR(255), \n",
      "\t`DateOfBirth` DATE, \n",
      "\t`Grade` INTEGER, \n",
      "\t`Email` VARCHAR(255), \n",
      "\t`Address` TEXT, \n",
      "\tPRIMARY KEY (`StudentID`)\n",
      ")COLLATE utf8mb4_0900_ai_ci DEFAULT CHARSET=utf8mb4 ENGINE=InnoDB\n",
      "\n",
      "/*\n",
      "3 rows from students table:\n",
      "StudentID\tFirstName\tLastName\tDateOfBirth\tGrade\tEmail\tAddress\n",
      "1\tDaniel\tSanchez\t2017-12-07\t11\tdariusrosario@evans.com\t7234 Nicole Harbor Suite 558, South Heathermouth, AZ 46122\n",
      "2\tAnthony\tHughes\t2013-04-15\t3\tjacobgoodwin@gmail.com\t3230 Christopher Ferry Apt. 766, North Robertmouth, OR 65443\n",
      "3\tJody\tDavidson\t2014-09-18\t10\tanthony98@hotmail.com\t791 Williams Ferry, North Andrea, DE 85879\n",
      "*/\u001b[0m\u001b[32;1m\u001b[1;3m\n",
      "Invoking: `sql_db_query` with `SELECT COUNT(*) AS TotalStudents FROM students`\n",
      "\n",
      "\n",
      "\u001b[0m\u001b[36;1m\u001b[1;3m[(1000,)]\u001b[0m\u001b[32;1m\u001b[1;3mWe have a total of 1000 students in our database.\u001b[0m\n",
      "\n",
      "\u001b[1m> Finished chain.\u001b[0m\n"
     ]
    },
    {
     "data": {
      "text/plain": [
       "'We have a total of 1000 students in our database.'"
      ]
     },
     "execution_count": 7,
     "metadata": {},
     "output_type": "execute_result"
    }
   ],
   "source": [
    "agent_executor.run(\"how many students do we have ?\")"
   ]
  },
  {
   "cell_type": "code",
   "execution_count": 8,
   "metadata": {},
   "outputs": [
    {
     "name": "stdout",
     "output_type": "stream",
     "text": [
      "\n",
      "\n",
      "\u001b[1m> Entering new AgentExecutor chain...\u001b[0m\n",
      "\u001b[32;1m\u001b[1;3m\n",
      "Invoking: `sql_db_list_tables` with ``\n",
      "\n",
      "\n",
      "\u001b[0m\u001b[38;5;200m\u001b[1;3mclassrooms, courses, enrollments, schedule, students, teachers\u001b[0m\u001b[32;1m\u001b[1;3m\n",
      "Invoking: `sql_db_schema` with `students`\n",
      "\n",
      "\n",
      "\u001b[0m\u001b[33;1m\u001b[1;3m\n",
      "CREATE TABLE students (\n",
      "\t`StudentID` INTEGER NOT NULL, \n",
      "\t`FirstName` VARCHAR(255), \n",
      "\t`LastName` VARCHAR(255), \n",
      "\t`DateOfBirth` DATE, \n",
      "\t`Grade` INTEGER, \n",
      "\t`Email` VARCHAR(255), \n",
      "\t`Address` TEXT, \n",
      "\tPRIMARY KEY (`StudentID`)\n",
      ")COLLATE utf8mb4_0900_ai_ci DEFAULT CHARSET=utf8mb4 ENGINE=InnoDB\n",
      "\n",
      "/*\n",
      "3 rows from students table:\n",
      "StudentID\tFirstName\tLastName\tDateOfBirth\tGrade\tEmail\tAddress\n",
      "1\tDaniel\tSanchez\t2017-12-07\t11\tdariusrosario@evans.com\t7234 Nicole Harbor Suite 558, South Heathermouth, AZ 46122\n",
      "2\tAnthony\tHughes\t2013-04-15\t3\tjacobgoodwin@gmail.com\t3230 Christopher Ferry Apt. 766, North Robertmouth, OR 65443\n",
      "3\tJody\tDavidson\t2014-09-18\t10\tanthony98@hotmail.com\t791 Williams Ferry, North Andrea, DE 85879\n",
      "*/\u001b[0m\u001b[32;1m\u001b[1;3m\n",
      "Invoking: `sql_db_query` with `SELECT * FROM students LIMIT 5`\n",
      "\n",
      "\n",
      "\u001b[0m\u001b[36;1m\u001b[1;3m[(1, 'Daniel', 'Sanchez', datetime.date(2017, 12, 7), 11, 'dariusrosario@evans.com', '7234 Nicole Harbor Suite 558, South Heathermouth, AZ 46122'), (2, 'Anthony', 'Hughes', datetime.date(2013, 4, 15), 3, 'jacobgoodwin@gmail.com', '3230 Christopher Ferry Apt. 766, North Robertmouth, OR 65443'), (3, 'Jody', 'Davidson', datetime.date(2014, 9, 18), 10, 'anthony98@hotmail.com', '791 Williams Ferry, North Andrea, DE 85879'), (4, 'Kathryn', 'Rodriguez', datetime.date(2008, 4, 8), 8, 'kathleen14@jarvis.com', '574 Cynthia Corners Apt. 844, Chandlerton, AL 51213'), (5, 'Paul', 'Miller', datetime.date(2014, 4, 10), 9, 'hooperrichard@yahoo.com', '069 Wells Light, New Angelborough, HI 47908')]\u001b[0m\u001b[32;1m\u001b[1;3mHere are the top 5 students' information:\n",
      "\n",
      "1. StudentID: 1, Name: Daniel Sanchez, Date of Birth: 2017-12-07, Grade: 11, Email: dariusrosario@evans.com, Address: 7234 Nicole Harbor Suite 558, South Heathermouth, AZ 46122\n",
      "2. StudentID: 2, Name: Anthony Hughes, Date of Birth: 2013-04-15, Grade: 3, Email: jacobgoodwin@gmail.com, Address: 3230 Christopher Ferry Apt. 766, North Robertmouth, OR 65443\n",
      "3. StudentID: 3, Name: Jody Davidson, Date of Birth: 2014-09-18, Grade: 10, Email: anthony98@hotmail.com, Address: 791 Williams Ferry, North Andrea, DE 85879\n",
      "4. StudentID: 4, Name: Kathryn Rodriguez, Date of Birth: 2008-04-08, Grade: 8, Email: kathleen14@jarvis.com, Address: 574 Cynthia Corners Apt. 844, Chandlerton, AL 51213\n",
      "5. StudentID: 5, Name: Paul Miller, Date of Birth: 2014-04-10, Grade: 9, Email: hooperrichard@yahoo.com, Address: 069 Wells Light, New Angelborough, HI 47908\u001b[0m\n",
      "\n",
      "\u001b[1m> Finished chain.\u001b[0m\n"
     ]
    },
    {
     "data": {
      "text/plain": [
       "\"Here are the top 5 students' information:\\n\\n1. StudentID: 1, Name: Daniel Sanchez, Date of Birth: 2017-12-07, Grade: 11, Email: dariusrosario@evans.com, Address: 7234 Nicole Harbor Suite 558, South Heathermouth, AZ 46122\\n2. StudentID: 2, Name: Anthony Hughes, Date of Birth: 2013-04-15, Grade: 3, Email: jacobgoodwin@gmail.com, Address: 3230 Christopher Ferry Apt. 766, North Robertmouth, OR 65443\\n3. StudentID: 3, Name: Jody Davidson, Date of Birth: 2014-09-18, Grade: 10, Email: anthony98@hotmail.com, Address: 791 Williams Ferry, North Andrea, DE 85879\\n4. StudentID: 4, Name: Kathryn Rodriguez, Date of Birth: 2008-04-08, Grade: 8, Email: kathleen14@jarvis.com, Address: 574 Cynthia Corners Apt. 844, Chandlerton, AL 51213\\n5. StudentID: 5, Name: Paul Miller, Date of Birth: 2014-04-10, Grade: 9, Email: hooperrichard@yahoo.com, Address: 069 Wells Light, New Angelborough, HI 47908\""
      ]
     },
     "execution_count": 8,
     "metadata": {},
     "output_type": "execute_result"
    }
   ],
   "source": [
    "agent_executor.run(\"give me top 5 students information ?\")"
   ]
  },
  {
   "cell_type": "markdown",
   "metadata": {},
   "source": [
    "- Token Counts"
   ]
  },
  {
   "cell_type": "code",
   "execution_count": 1,
   "metadata": {},
   "outputs": [],
   "source": [
    "import os\n",
    "import pandas as pd\n",
    "from langchain.chat_models import ChatOpenAI\n",
    "from langchain.agents import create_sql_agent, AgentType\n",
    "from langchain_community.agent_toolkits import SQLDatabaseToolkit\n",
    "from langchain.sql_database import SQLDatabase\n",
    "from langchain.llms import OpenAI\n",
    "from langchain.callbacks import get_openai_callback\n",
    "\n",
    "# Set your OpenAI API key\n",
    "os.environ[\"OPENAI_API_KEY\"] = \"YOUR_OPENAI_API_KEY\""
   ]
  },
  {
   "cell_type": "code",
   "execution_count": 4,
   "metadata": {},
   "outputs": [],
   "source": [
    "db_user = \"root\"\n",
    "db_password = \"root\"\n",
    "db_host = \"localhost\"\n",
    "db_name = \"schooldb\"\n",
    "db_port=3306\n",
    "SQLALCHEMY_DATABASE_URL = (\n",
    "    f\"mysql+pymysql://{db_user}:{db_password}\"\n",
    "    f\"@{db_host}:{db_port}\"\n",
    "    f\"/{db_name}\"\n",
    ")\n",
    "\n",
    "db = SQLDatabase.from_uri(SQLALCHEMY_DATABASE_URL)"
   ]
  },
  {
   "cell_type": "code",
   "execution_count": 5,
   "metadata": {},
   "outputs": [],
   "source": [
    "from langchain.chat_models import ChatOpenAI\n",
    "llm = ChatOpenAI(model_name=\"gpt-3.5-turbo-1106\")\n",
    "\n",
    "toolkit = SQLDatabaseToolkit(db=db,llm=llm)\n",
    "agent_executor = create_sql_agent(\n",
    "    llm=llm,\n",
    "    toolkit=toolkit,\n",
    "    verbose=True,\n",
    "    agent_type=AgentType.OPENAI_FUNCTIONS,\n",
    ")"
   ]
  },
  {
   "cell_type": "markdown",
   "metadata": {},
   "source": [
    "- Prompt Templates"
   ]
  },
  {
   "cell_type": "code",
   "execution_count": 6,
   "metadata": {},
   "outputs": [],
   "source": [
    "prompt_template = \"\"\"\n",
    "As a highly capable AI, your task is to understand user queries related to the 'sql_bot' database, refine them for clarity and accuracy, and provide detailed responses. Preferably, present answers in a tabular format for ease of understanding. The database includes tables like employees, finance, projects, events, and holidays. Here are your specific instructions:\n",
    "\n",
    "1. Refine User Queries: If a user's query is vague or unclear, rephrase it into a clear, concise question that can be accurately answered with the database's information.\n",
    "\n",
    "2. Detailed and Tabular Responses: Where possible, provide detailed answers in a tabular format. This makes the information more readable and organized.\n",
    "\n",
    "3. Limiting Large Responses: For queries requesting extensive data (e.g., listing all students), limit the response to the first 10 entries and inform the user that only a subset of data is displayed.\"\n",
    "\n",
    "Your role is to effectively communicate database information to the user, ensuring the responses are informative, concise, and well-structured.\n",
    "\"\"\""
   ]
  },
  {
   "cell_type": "code",
   "execution_count": 7,
   "metadata": {},
   "outputs": [],
   "source": [
    "# Token counter function with prompt integration\n",
    "def count_tokens(chain, query):\n",
    "    with get_openai_callback() as cb:\n",
    "        # Combine the prompt template with the user's query\n",
    "        full_query = prompt_template + \"\\nUser query: \" + query\n",
    "\n",
    "        # Process the combined query\n",
    "        result = chain.run(full_query)\n",
    "        print(f'Spent a total of {cb} tokens')\n",
    "    return result"
   ]
  },
  {
   "cell_type": "code",
   "execution_count": 8,
   "metadata": {},
   "outputs": [
    {
     "name": "stderr",
     "output_type": "stream",
     "text": [
      "c:\\Users\\admin\\UpForce\\Company Projects\\UniversalChatBot\\venv\\lib\\site-packages\\langchain_core\\_api\\deprecation.py:117: LangChainDeprecationWarning: The function `run` was deprecated in LangChain 0.1.0 and will be removed in 0.2.0. Use invoke instead.\n",
      "  warn_deprecated(\n"
     ]
    },
    {
     "name": "stdout",
     "output_type": "stream",
     "text": [
      "\n",
      "\n",
      "\u001b[1m> Entering new AgentExecutor chain...\u001b[0m\n",
      "\u001b[32;1m\u001b[1;3m\n",
      "Invoking: `sql_db_list_tables` with ``\n",
      "\n",
      "\n",
      "\u001b[0m\u001b[38;5;200m\u001b[1;3mclassrooms, courses, enrollments, schedule, students, teachers\u001b[0m\u001b[32;1m\u001b[1;3m\n",
      "Invoking: `sql_db_schema` with `students`\n",
      "\n",
      "\n",
      "\u001b[0m\u001b[33;1m\u001b[1;3m\n",
      "CREATE TABLE students (\n",
      "\t`StudentID` INTEGER NOT NULL, \n",
      "\t`FirstName` VARCHAR(255), \n",
      "\t`LastName` VARCHAR(255), \n",
      "\t`DateOfBirth` DATE, \n",
      "\t`Grade` INTEGER, \n",
      "\t`Email` VARCHAR(255), \n",
      "\t`Address` TEXT, \n",
      "\tPRIMARY KEY (`StudentID`)\n",
      ")ENGINE=InnoDB DEFAULT CHARSET=utf8mb4 COLLATE utf8mb4_0900_ai_ci\n",
      "\n",
      "/*\n",
      "3 rows from students table:\n",
      "StudentID\tFirstName\tLastName\tDateOfBirth\tGrade\tEmail\tAddress\n",
      "1\tDaniel\tSanchez\t2017-12-07\t11\tdariusrosario@evans.com\t7234 Nicole Harbor Suite 558, South Heathermouth, AZ 46122\n",
      "2\tAnthony\tHughes\t2013-04-15\t3\tjacobgoodwin@gmail.com\t3230 Christopher Ferry Apt. 766, North Robertmouth, OR 65443\n",
      "3\tJody\tDavidson\t2014-09-18\t10\tanthony98@hotmail.com\t791 Williams Ferry, North Andrea, DE 85879\n",
      "*/\u001b[0m\u001b[32;1m\u001b[1;3m\n",
      "Invoking: `sql_db_query` with `SELECT COUNT(*) AS TotalStudents FROM students`\n",
      "\n",
      "\n",
      "\u001b[0m\u001b[36;1m\u001b[1;3m[(1000,)]\u001b[0m\u001b[32;1m\u001b[1;3mThere are 1000 students in the database.\u001b[0m\n",
      "\n",
      "\u001b[1m> Finished chain.\u001b[0m\n",
      "Spent a total of Tokens Used: 3753\n",
      "\tPrompt Tokens: 3684\n",
      "\tCompletion Tokens: 69\n",
      "Successful Requests: 4\n",
      "Total Cost (USD): $0.0038220000000000003 tokens\n",
      "There are 1000 students in the database.\n"
     ]
    }
   ],
   "source": [
    "# Accept user input\n",
    "user_query = input(\"Enter your query:\")\n",
    "\n",
    "if user_query:\n",
    "    # Process the user's query using the SQL agent\n",
    "    response = count_tokens(agent_executor, user_query)\n",
    "    print(response)"
   ]
  },
  {
   "cell_type": "code",
   "execution_count": 9,
   "metadata": {},
   "outputs": [
    {
     "name": "stdout",
     "output_type": "stream",
     "text": [
      "\n",
      "\n",
      "\u001b[1m> Entering new AgentExecutor chain...\u001b[0m\n",
      "\u001b[32;1m\u001b[1;3m\n",
      "Invoking: `sql_db_list_tables` with ``\n",
      "\n",
      "\n",
      "\u001b[0m\u001b[38;5;200m\u001b[1;3mclassrooms, courses, enrollments, schedule, students, teachers\u001b[0m\u001b[32;1m\u001b[1;3m\n",
      "Invoking: `sql_db_schema` with `students`\n",
      "\n",
      "\n",
      "\u001b[0m\u001b[33;1m\u001b[1;3m\n",
      "CREATE TABLE students (\n",
      "\t`StudentID` INTEGER NOT NULL, \n",
      "\t`FirstName` VARCHAR(255), \n",
      "\t`LastName` VARCHAR(255), \n",
      "\t`DateOfBirth` DATE, \n",
      "\t`Grade` INTEGER, \n",
      "\t`Email` VARCHAR(255), \n",
      "\t`Address` TEXT, \n",
      "\tPRIMARY KEY (`StudentID`)\n",
      ")ENGINE=InnoDB DEFAULT CHARSET=utf8mb4 COLLATE utf8mb4_0900_ai_ci\n",
      "\n",
      "/*\n",
      "3 rows from students table:\n",
      "StudentID\tFirstName\tLastName\tDateOfBirth\tGrade\tEmail\tAddress\n",
      "1\tDaniel\tSanchez\t2017-12-07\t11\tdariusrosario@evans.com\t7234 Nicole Harbor Suite 558, South Heathermouth, AZ 46122\n",
      "2\tAnthony\tHughes\t2013-04-15\t3\tjacobgoodwin@gmail.com\t3230 Christopher Ferry Apt. 766, North Robertmouth, OR 65443\n",
      "3\tJody\tDavidson\t2014-09-18\t10\tanthony98@hotmail.com\t791 Williams Ferry, North Andrea, DE 85879\n",
      "*/\u001b[0m\u001b[32;1m\u001b[1;3mThe query \"who is Daniel Sanchez\" relates to the 'students' table. Here is the information from the 'students' table:\n",
      "\n",
      "| StudentID | FirstName | LastName | DateOfBirth | Grade | Email                     | Address                                            |\n",
      "|-----------|-----------|----------|-------------|-------|---------------------------|----------------------------------------------------|\n",
      "| 1         | Daniel    | Sanchez  | 2017-12-07  | 11    | dariusrosario@evans.com   | 7234 Nicole Harbor Suite 558, South Heathermouth, AZ 46122 |\n",
      "\n",
      "Daniel Sanchez is a student with StudentID 1, born on 2017-12-07, in grade 11, with the email dariusrosario@evans.com, and residing at 7234 Nicole Harbor Suite 558, South Heathermouth, AZ 46122.\u001b[0m\n",
      "\n",
      "\u001b[1m> Finished chain.\u001b[0m\n",
      "Spent a total of Tokens Used: 2796\n",
      "\tPrompt Tokens: 2587\n",
      "\tCompletion Tokens: 209\n",
      "Successful Requests: 3\n",
      "Total Cost (USD): $0.003005 tokens\n",
      "The query \"who is Daniel Sanchez\" relates to the 'students' table. Here is the information from the 'students' table:\n",
      "\n",
      "| StudentID | FirstName | LastName | DateOfBirth | Grade | Email                     | Address                                            |\n",
      "|-----------|-----------|----------|-------------|-------|---------------------------|----------------------------------------------------|\n",
      "| 1         | Daniel    | Sanchez  | 2017-12-07  | 11    | dariusrosario@evans.com   | 7234 Nicole Harbor Suite 558, South Heathermouth, AZ 46122 |\n",
      "\n",
      "Daniel Sanchez is a student with StudentID 1, born on 2017-12-07, in grade 11, with the email dariusrosario@evans.com, and residing at 7234 Nicole Harbor Suite 558, South Heathermouth, AZ 46122.\n"
     ]
    }
   ],
   "source": [
    "# Accept user input\n",
    "user_query = input(\"Enter your query:\")\n",
    "\n",
    "if user_query:\n",
    "    # Process the user's query using the SQL agent\n",
    "    response = count_tokens(agent_executor, user_query)\n",
    "    print(response)"
   ]
  }
 ],
 "metadata": {
  "kernelspec": {
   "display_name": "Python 3",
   "language": "python",
   "name": "python3"
  },
  "language_info": {
   "codemirror_mode": {
    "name": "ipython",
    "version": 3
   },
   "file_extension": ".py",
   "mimetype": "text/x-python",
   "name": "python",
   "nbconvert_exporter": "python",
   "pygments_lexer": "ipython3",
   "version": "3.10.0"
  }
 },
 "nbformat": 4,
 "nbformat_minor": 2
}
